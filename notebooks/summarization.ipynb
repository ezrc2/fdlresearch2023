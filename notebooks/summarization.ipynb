{
 "cells": [
  {
   "cell_type": "code",
   "execution_count": 1,
   "id": "aa85d19c-6ffe-499b-842c-fca971b801fd",
   "metadata": {},
   "outputs": [],
   "source": [
    "from transformers import AutoTokenizer, BartForConditionalGeneration"
   ]
  },
  {
   "cell_type": "code",
   "execution_count": 2,
   "id": "e088f093-4d4f-42cb-b2d8-0f165adf8ca3",
   "metadata": {},
   "outputs": [],
   "source": [
    "bart_model = BartForConditionalGeneration.from_pretrained(\"facebook/bart-large-cnn\")\n",
    "tokenizer = AutoTokenizer.from_pretrained(\"facebook/bart-large-cnn\")"
   ]
  },
  {
   "cell_type": "code",
   "execution_count": 16,
   "id": "4cd7ed40-4043-4c6c-ab33-3d429b240d5c",
   "metadata": {},
   "outputs": [],
   "source": [
    "text = \"\"\"\n",
    "Illinois has tremendous breadth and depth in academics, with more than 150 undergraduate and more than 100 graduate and professional programs.\n",
    "\n",
    "On the strength of our pre-eminent faculty, many academic programs are ranked among the best in the world. This emphasis on campuswide academic excellence has built Illinois' reputation as one of the nation's premier public universities.\n",
    "\n",
    "\n",
    "Illinois Computer Science is ranked #5 nationally and distinguished by our programs, academic excellence, and renowned faculty. We are advancing the future of computing with 120+ professors, $33M+ in research, 20 IEEE Fellows, 18 ACM Fellows, 11 Sloan Research Fellows, and 47 NSF CAREER Awards. We are trail-blazing pathways for study with 20+ degree options, 2,400+ undergraduate, 2,600+ graduate, and 490+ Ph.D. students.\n",
    "The Computer Science curriculum provides both a broad and deep knowledge of the theory, design, and application of computer systems, with an emphasis on software systems. Because computing is ubiquitous, application areas involve virtually any field imaginable - from developing gene sequencing algorithms via techniques in computational biology, to designing user interfaces for mobile applications; from designing methods for high frequency trading, to creating computer generated graphics and special effects in the gaming industry; and from creating embedded real time systems to be deployed in medical devices, to analyzing social data from internet communication patterns. During the first two years the curriculum provides a strong foundation in mathematics, science, and computation. Advanced coursework both in more technical core areas and in areas of the student's choosing follows in the second two years. Graduates regularly go on to graduate study or leading positions in industry.\n",
    "\"\"\""
   ]
  },
  {
   "cell_type": "code",
   "execution_count": 17,
   "id": "1989901b-b592-4ec9-848e-cb9d2f3a218f",
   "metadata": {},
   "outputs": [
    {
     "data": {
      "text/plain": [
       "(264, 66)"
      ]
     },
     "execution_count": 17,
     "metadata": {},
     "output_type": "execute_result"
    }
   ],
   "source": [
    "max_length = len(text.split())\n",
    "min_length = len(text.split()) // 4\n",
    "(max_length, min_length)"
   ]
  },
  {
   "cell_type": "code",
   "execution_count": 18,
   "id": "84417e5d-b216-4524-a554-04f603ac0ede",
   "metadata": {},
   "outputs": [],
   "source": [
    "inputs = tokenizer([text], max_length=1024, return_tensors=\"pt\", truncation=True)\n",
    "summary_ids = bart_model.generate(inputs[\"input_ids\"], num_beams=2, min_length=min_length, max_length=max_length)\n",
    "summary = tokenizer.batch_decode(summary_ids, skip_special_tokens=True, clean_up_tokenization_spaces=False, truncation=True)[0]"
   ]
  },
  {
   "cell_type": "code",
   "execution_count": 19,
   "id": "c05b1fa0-0168-4761-bf91-8ff8a474be46",
   "metadata": {},
   "outputs": [
    {
     "data": {
      "text/plain": [
       "'Illinois Computer Science is ranked #5 nationally and distinguished by our programs, academic excellence, and renowned faculty. We are advancing the future of computing with 120+ professors, $33M+ in research, 20 IEEE Fellows, 18 ACM Fellows and 11 Sloan Research Fellows. The Computer Science curriculum provides both a broad and deep knowledge of the theory, design, and application of computer systems.'"
      ]
     },
     "execution_count": 19,
     "metadata": {},
     "output_type": "execute_result"
    }
   ],
   "source": [
    "summary"
   ]
  },
  {
   "cell_type": "code",
   "execution_count": 20,
   "id": "92797c9b-f0c6-44a3-b216-cfa07dc84744",
   "metadata": {},
   "outputs": [
    {
     "data": {
      "text/plain": [
       "61"
      ]
     },
     "execution_count": 20,
     "metadata": {},
     "output_type": "execute_result"
    }
   ],
   "source": [
    "len(summary.split())"
   ]
  }
 ],
 "metadata": {
  "kernelspec": {
   "display_name": "Python 3 (ipykernel)",
   "language": "python",
   "name": "python3"
  },
  "language_info": {
   "codemirror_mode": {
    "name": "ipython",
    "version": 3
   },
   "file_extension": ".py",
   "mimetype": "text/x-python",
   "name": "python",
   "nbconvert_exporter": "python",
   "pygments_lexer": "ipython3",
   "version": "3.9.11"
  }
 },
 "nbformat": 4,
 "nbformat_minor": 5
}
