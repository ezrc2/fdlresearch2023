{
 "cells": [
  {
   "cell_type": "code",
   "execution_count": 1,
   "id": "1f249996-94fc-4ba7-aa68-a94cb0fd9f0b",
   "metadata": {},
   "outputs": [],
   "source": [
    "import gensim\n",
    "import pandas as pd\n",
    "from eric_chen_forward import util"
   ]
  },
  {
   "cell_type": "code",
   "execution_count": 2,
   "id": "e6dac62a-0815-4e3d-9351-43fd84c29f7d",
   "metadata": {},
   "outputs": [
    {
     "data": {
      "text/html": [
       "<div>\n",
       "<style scoped>\n",
       "    .dataframe tbody tr th:only-of-type {\n",
       "        vertical-align: middle;\n",
       "    }\n",
       "\n",
       "    .dataframe tbody tr th {\n",
       "        vertical-align: top;\n",
       "    }\n",
       "\n",
       "    .dataframe thead th {\n",
       "        text-align: right;\n",
       "    }\n",
       "</style>\n",
       "<table border=\"1\" class=\"dataframe\">\n",
       "  <thead>\n",
       "    <tr style=\"text-align: right;\">\n",
       "      <th></th>\n",
       "      <th>label</th>\n",
       "      <th>paragraph</th>\n",
       "      <th>cleaned_text</th>\n",
       "      <th>tokenized</th>\n",
       "    </tr>\n",
       "  </thead>\n",
       "  <tbody>\n",
       "    <tr>\n",
       "      <th>0</th>\n",
       "      <td>Academics</td>\n",
       "      <td>Associate Professor Song has expanded the Busi...</td>\n",
       "      <td>associate professor song expanded business int...</td>\n",
       "      <td>[associate, professor, song, expanded, busines...</td>\n",
       "    </tr>\n",
       "    <tr>\n",
       "      <th>1</th>\n",
       "      <td>Academics</td>\n",
       "      <td>MSLIS student and ALA Spectrum Scholar Reynoso...</td>\n",
       "      <td>mslis student ala spectrum scholar reynoso dra...</td>\n",
       "      <td>[mslis, student, ala, spectrum, scholar, reyno...</td>\n",
       "    </tr>\n",
       "    <tr>\n",
       "      <th>2</th>\n",
       "      <td>Academics</td>\n",
       "      <td>Professor Downie gave the keynote for the 2023...</td>\n",
       "      <td>professor downie gave keynote acm sigir confer...</td>\n",
       "      <td>[professor, downie, gave, keynote, acm, sigir,...</td>\n",
       "    </tr>\n",
       "    <tr>\n",
       "      <th>3</th>\n",
       "      <td>Academics</td>\n",
       "      <td>COURSE LOADS AND OVERLOADS\\nThe normal course ...</td>\n",
       "      <td>course load overload normal course load varies...</td>\n",
       "      <td>[course, load, overload, normal, course, load,...</td>\n",
       "    </tr>\n",
       "    <tr>\n",
       "      <th>4</th>\n",
       "      <td>Academics</td>\n",
       "      <td>The maximum number of hours a student can take...</td>\n",
       "      <td>maximum number hour student take given term de...</td>\n",
       "      <td>[maximum, number, hour, student, take, given, ...</td>\n",
       "    </tr>\n",
       "  </tbody>\n",
       "</table>\n",
       "</div>"
      ],
      "text/plain": [
       "       label                                          paragraph  \\\n",
       "0  Academics  Associate Professor Song has expanded the Busi...   \n",
       "1  Academics  MSLIS student and ALA Spectrum Scholar Reynoso...   \n",
       "2  Academics  Professor Downie gave the keynote for the 2023...   \n",
       "3  Academics  COURSE LOADS AND OVERLOADS\\nThe normal course ...   \n",
       "4  Academics  The maximum number of hours a student can take...   \n",
       "\n",
       "                                        cleaned_text  \\\n",
       "0  associate professor song expanded business int...   \n",
       "1  mslis student ala spectrum scholar reynoso dra...   \n",
       "2  professor downie gave keynote acm sigir confer...   \n",
       "3  course load overload normal course load varies...   \n",
       "4  maximum number hour student take given term de...   \n",
       "\n",
       "                                           tokenized  \n",
       "0  [associate, professor, song, expanded, busines...  \n",
       "1  [mslis, student, ala, spectrum, scholar, reyno...  \n",
       "2  [professor, downie, gave, keynote, acm, sigir,...  \n",
       "3  [course, load, overload, normal, course, load,...  \n",
       "4  [maximum, number, hour, student, take, given, ...  "
      ]
     },
     "execution_count": 2,
     "metadata": {},
     "output_type": "execute_result"
    }
   ],
   "source": [
    "df = pd.read_csv('new_dataset.csv')\n",
    "df['cleaned_text'] = df['paragraph'].apply(lambda x: util.clean_document(x))\n",
    "df['tokenized'] = df['cleaned_text'].apply(lambda x: x.split())\n",
    "df.head()"
   ]
  },
  {
   "cell_type": "code",
   "execution_count": 3,
   "id": "b83faa07-e78e-4951-ae98-19ecb5d9eadb",
   "metadata": {},
   "outputs": [],
   "source": [
    "model = gensim.models.Word2Vec(\n",
    "    window=5,\n",
    "    min_count=2,\n",
    "    workers=4,\n",
    ")"
   ]
  },
  {
   "cell_type": "code",
   "execution_count": 4,
   "id": "97f46e19-be6c-47bb-92fc-ee64e9f18056",
   "metadata": {},
   "outputs": [],
   "source": [
    "text = df['tokenized']"
   ]
  },
  {
   "cell_type": "code",
   "execution_count": 5,
   "id": "94c03085-263b-4790-a7c4-47e7cac57bc8",
   "metadata": {},
   "outputs": [
    {
     "data": {
      "text/plain": [
       "['associate',\n",
       " 'professor',\n",
       " 'song',\n",
       " 'expanded',\n",
       " 'business',\n",
       " 'intelligence',\n",
       " 'group',\n",
       " 'student',\n",
       " 'consultancy',\n",
       " 'group',\n",
       " 'associated']"
      ]
     },
     "execution_count": 5,
     "metadata": {},
     "output_type": "execute_result"
    }
   ],
   "source": [
    "text.loc[0]"
   ]
  },
  {
   "cell_type": "code",
   "execution_count": 6,
   "id": "0bfb1d30-0fa5-4eec-988e-e7279a8d5342",
   "metadata": {},
   "outputs": [],
   "source": [
    "model.build_vocab(text, progress_per=1000)"
   ]
  },
  {
   "cell_type": "code",
   "execution_count": 7,
   "id": "d044ace6-e0bc-4eeb-9849-185680efe88d",
   "metadata": {},
   "outputs": [
    {
     "data": {
      "text/plain": [
       "5"
      ]
     },
     "execution_count": 7,
     "metadata": {},
     "output_type": "execute_result"
    }
   ],
   "source": [
    "model.epochs"
   ]
  },
  {
   "cell_type": "code",
   "execution_count": 8,
   "id": "6932c179-1e2a-4b6e-b76f-62b2f76b51cd",
   "metadata": {},
   "outputs": [
    {
     "data": {
      "text/plain": [
       "2467"
      ]
     },
     "execution_count": 8,
     "metadata": {},
     "output_type": "execute_result"
    }
   ],
   "source": [
    "model.corpus_count"
   ]
  },
  {
   "cell_type": "code",
   "execution_count": 9,
   "id": "203fd1f8-3354-43ba-8f93-f888cdc41e8f",
   "metadata": {},
   "outputs": [
    {
     "data": {
      "text/plain": [
       "(441167, 493985)"
      ]
     },
     "execution_count": 9,
     "metadata": {},
     "output_type": "execute_result"
    }
   ],
   "source": [
    "model.train(text, total_examples=model.corpus_count, epochs=model.epochs)"
   ]
  },
  {
   "cell_type": "code",
   "execution_count": 10,
   "id": "b1057f01-7d88-4f75-bfbc-4edaf6de9c3c",
   "metadata": {},
   "outputs": [],
   "source": [
    "model.save(\"w2v.model\")"
   ]
  },
  {
   "cell_type": "code",
   "execution_count": 11,
   "id": "16115d04-49d6-4a9e-9799-e3f47b56e9dc",
   "metadata": {},
   "outputs": [
    {
     "data": {
      "text/plain": [
       "6237"
      ]
     },
     "execution_count": 11,
     "metadata": {},
     "output_type": "execute_result"
    }
   ],
   "source": [
    "len(model.wv)"
   ]
  },
  {
   "cell_type": "code",
   "execution_count": 12,
   "id": "f07bff50-3be8-4c65-bccf-b22cbbd688e0",
   "metadata": {},
   "outputs": [
    {
     "data": {
      "text/plain": [
       "[('school', 0.9995893836021423),\n",
       " ('education', 0.9992655515670776),\n",
       " ('business', 0.9992366433143616),\n",
       " ('graduate', 0.9990893602371216),\n",
       " ('liberal', 0.9990546703338623),\n",
       " ('mathematics', 0.9989520311355591),\n",
       " ('earn', 0.9988529682159424),\n",
       " ('phd', 0.998820424079895),\n",
       " ('curriculum', 0.9987074136734009),\n",
       " ('additional', 0.9986926913261414)]"
      ]
     },
     "execution_count": 12,
     "metadata": {},
     "output_type": "execute_result"
    }
   ],
   "source": [
    "model.wv.most_similar(\"college\")"
   ]
  },
  {
   "cell_type": "code",
   "execution_count": 13,
   "id": "97ec741f-6809-4828-9582-9bdc393f5f7c",
   "metadata": {},
   "outputs": [
    {
     "data": {
      "text/plain": [
       "[('science', 0.9969636797904968),\n",
       " ('bachelor', 0.9964192509651184),\n",
       " ('degree', 0.9933509230613708),\n",
       " ('b', 0.9929066896438599),\n",
       " ('engineering', 0.9886715412139893),\n",
       " ('psychology', 0.9879353642463684),\n",
       " ('electrical', 0.9875955581665039),\n",
       " ('joint', 0.9868075251579285),\n",
       " ('specialization', 0.9857147336006165),\n",
       " ('art', 0.9848703145980835)]"
      ]
     },
     "execution_count": 13,
     "metadata": {},
     "output_type": "execute_result"
    }
   ],
   "source": [
    "model.wv.most_similar(\"computer\")"
   ]
  },
  {
   "cell_type": "code",
   "execution_count": 14,
   "id": "1f8136c7-5bc5-4026-9b63-4761031f9cc5",
   "metadata": {},
   "outputs": [
    {
     "data": {
      "text/plain": [
       "0.9995894"
      ]
     },
     "execution_count": 14,
     "metadata": {},
     "output_type": "execute_result"
    }
   ],
   "source": [
    "model.wv.similarity('college', 'school')"
   ]
  },
  {
   "cell_type": "code",
   "execution_count": 15,
   "id": "9587193c-77b6-44e4-9b5e-3e78a1063374",
   "metadata": {},
   "outputs": [
    {
     "data": {
      "text/plain": [
       "array([-0.07878568,  0.12007365,  0.08206153,  0.00452788,  0.01928951,\n",
       "       -0.21224527,  0.06692049,  0.2773162 , -0.12414341, -0.01793329,\n",
       "        0.0101476 , -0.20531438,  0.00960027,  0.03292124,  0.03104411,\n",
       "       -0.16742165,  0.01701005, -0.14567567,  0.03178149, -0.2574174 ,\n",
       "        0.06980379,  0.08707588, -0.02720303, -0.06010542, -0.04038551,\n",
       "       -0.03431287, -0.04606346, -0.07700709,  0.02048071,  0.01197418,\n",
       "        0.21116878,  0.03144749, -0.04558324, -0.02473793, -0.05907683,\n",
       "        0.14991055, -0.00161541, -0.0881497 , -0.03490939, -0.23027214,\n",
       "        0.14745016, -0.1433695 , -0.07294632,  0.05636094,  0.04947818,\n",
       "       -0.07458551,  0.01840388, -0.00400996,  0.02164999,  0.0675102 ,\n",
       "       -0.00798365, -0.17749128, -0.04656086, -0.01476886, -0.08945723,\n",
       "        0.05352692,  0.10045405,  0.00405218, -0.08974165,  0.01484045,\n",
       "        0.06696312, -0.02525364,  0.00603367, -0.00031035, -0.10100944,\n",
       "        0.02100647,  0.11614598,  0.04815542, -0.17684355,  0.1170177 ,\n",
       "       -0.03465785,  0.06253988,  0.09561566, -0.04564637,  0.22117533,\n",
       "        0.07435238, -0.07390419, -0.00213238, -0.04412624,  0.14300457,\n",
       "       -0.01447158,  0.01811757, -0.15672292,  0.16681252, -0.07303974,\n",
       "       -0.01366064,  0.0109839 ,  0.06473004,  0.16887827,  0.12106311,\n",
       "        0.14690834,  0.00138627,  0.0328499 ,  0.02505811,  0.21906406,\n",
       "        0.05214142,  0.09763274, -0.05182866,  0.06311116, -0.02356254],\n",
       "      dtype=float32)"
      ]
     },
     "execution_count": 15,
     "metadata": {},
     "output_type": "execute_result"
    }
   ],
   "source": [
    "model.wv.get_mean_vector(text.loc[0])"
   ]
  },
  {
   "cell_type": "code",
   "execution_count": 16,
   "id": "e00aa8ab-b19a-4e36-af81-9e7e730aec82",
   "metadata": {},
   "outputs": [
    {
     "data": {
      "text/html": [
       "<div>\n",
       "<style scoped>\n",
       "    .dataframe tbody tr th:only-of-type {\n",
       "        vertical-align: middle;\n",
       "    }\n",
       "\n",
       "    .dataframe tbody tr th {\n",
       "        vertical-align: top;\n",
       "    }\n",
       "\n",
       "    .dataframe thead th {\n",
       "        text-align: right;\n",
       "    }\n",
       "</style>\n",
       "<table border=\"1\" class=\"dataframe\">\n",
       "  <thead>\n",
       "    <tr style=\"text-align: right;\">\n",
       "      <th></th>\n",
       "      <th>label</th>\n",
       "      <th>paragraph</th>\n",
       "      <th>cleaned_text</th>\n",
       "      <th>tokenized</th>\n",
       "      <th>vector</th>\n",
       "    </tr>\n",
       "  </thead>\n",
       "  <tbody>\n",
       "    <tr>\n",
       "      <th>0</th>\n",
       "      <td>Academics</td>\n",
       "      <td>Associate Professor Song has expanded the Busi...</td>\n",
       "      <td>associate professor song expanded business int...</td>\n",
       "      <td>[associate, professor, song, expanded, busines...</td>\n",
       "      <td>[-0.07878568, 0.12007365, 0.08206153, 0.004527...</td>\n",
       "    </tr>\n",
       "    <tr>\n",
       "      <th>1</th>\n",
       "      <td>Academics</td>\n",
       "      <td>MSLIS student and ALA Spectrum Scholar Reynoso...</td>\n",
       "      <td>mslis student ala spectrum scholar reynoso dra...</td>\n",
       "      <td>[mslis, student, ala, spectrum, scholar, reyno...</td>\n",
       "      <td>[-0.08084031, 0.13093157, 0.076495126, -0.0011...</td>\n",
       "    </tr>\n",
       "    <tr>\n",
       "      <th>2</th>\n",
       "      <td>Academics</td>\n",
       "      <td>Professor Downie gave the keynote for the 2023...</td>\n",
       "      <td>professor downie gave keynote acm sigir confer...</td>\n",
       "      <td>[professor, downie, gave, keynote, acm, sigir,...</td>\n",
       "      <td>[-0.07699328, 0.1190415, 0.08183074, 0.0030425...</td>\n",
       "    </tr>\n",
       "    <tr>\n",
       "      <th>3</th>\n",
       "      <td>Academics</td>\n",
       "      <td>COURSE LOADS AND OVERLOADS\\nThe normal course ...</td>\n",
       "      <td>course load overload normal course load varies...</td>\n",
       "      <td>[course, load, overload, normal, course, load,...</td>\n",
       "      <td>[-0.07635715, 0.1196787, 0.08338048, 0.0025621...</td>\n",
       "    </tr>\n",
       "    <tr>\n",
       "      <th>4</th>\n",
       "      <td>Academics</td>\n",
       "      <td>The maximum number of hours a student can take...</td>\n",
       "      <td>maximum number hour student take given term de...</td>\n",
       "      <td>[maximum, number, hour, student, take, given, ...</td>\n",
       "      <td>[-0.0763707, 0.12011519, 0.07883641, -0.000130...</td>\n",
       "    </tr>\n",
       "  </tbody>\n",
       "</table>\n",
       "</div>"
      ],
      "text/plain": [
       "       label                                          paragraph  \\\n",
       "0  Academics  Associate Professor Song has expanded the Busi...   \n",
       "1  Academics  MSLIS student and ALA Spectrum Scholar Reynoso...   \n",
       "2  Academics  Professor Downie gave the keynote for the 2023...   \n",
       "3  Academics  COURSE LOADS AND OVERLOADS\\nThe normal course ...   \n",
       "4  Academics  The maximum number of hours a student can take...   \n",
       "\n",
       "                                        cleaned_text  \\\n",
       "0  associate professor song expanded business int...   \n",
       "1  mslis student ala spectrum scholar reynoso dra...   \n",
       "2  professor downie gave keynote acm sigir confer...   \n",
       "3  course load overload normal course load varies...   \n",
       "4  maximum number hour student take given term de...   \n",
       "\n",
       "                                           tokenized  \\\n",
       "0  [associate, professor, song, expanded, busines...   \n",
       "1  [mslis, student, ala, spectrum, scholar, reyno...   \n",
       "2  [professor, downie, gave, keynote, acm, sigir,...   \n",
       "3  [course, load, overload, normal, course, load,...   \n",
       "4  [maximum, number, hour, student, take, given, ...   \n",
       "\n",
       "                                              vector  \n",
       "0  [-0.07878568, 0.12007365, 0.08206153, 0.004527...  \n",
       "1  [-0.08084031, 0.13093157, 0.076495126, -0.0011...  \n",
       "2  [-0.07699328, 0.1190415, 0.08183074, 0.0030425...  \n",
       "3  [-0.07635715, 0.1196787, 0.08338048, 0.0025621...  \n",
       "4  [-0.0763707, 0.12011519, 0.07883641, -0.000130...  "
      ]
     },
     "execution_count": 16,
     "metadata": {},
     "output_type": "execute_result"
    }
   ],
   "source": [
    "df['vector'] = df['tokenized'].apply(lambda x: model.wv.get_mean_vector(x))\n",
    "df.head()"
   ]
  },
  {
   "cell_type": "code",
   "execution_count": 18,
   "id": "431a5433-d6fe-4917-92ae-03000fa9e43a",
   "metadata": {},
   "outputs": [],
   "source": [
    "from sklearn.model_selection import train_test_split\n",
    "from sklearn.metrics import classification_report\n",
    "from sklearn.metrics import accuracy_score, confusion_matrix\n",
    "\n",
    "from sklearn.linear_model import LogisticRegression\n",
    "from sklearn.linear_model import SGDClassifier\n",
    "from sklearn.ensemble import GradientBoostingClassifier\n",
    "\n",
    "import numpy as np\n",
    "import pickle"
   ]
  },
  {
   "cell_type": "code",
   "execution_count": 19,
   "id": "facd50f0-3d50-4478-8ce2-8b6a637d95dd",
   "metadata": {},
   "outputs": [],
   "source": [
    "X = df['vector']\n",
    "y = df['label']\n",
    "X_train, X_test, y_train, y_test = train_test_split(X, y, test_size=0.25, random_state=0, stratify=y)"
   ]
  },
  {
   "cell_type": "code",
   "execution_count": 20,
   "id": "4ca65d14-32fe-465f-96dd-22aa35938a45",
   "metadata": {},
   "outputs": [],
   "source": [
    "X_train_2d = np.stack(X_train)\n",
    "X_test_2d = np.stack(X_test)"
   ]
  },
  {
   "cell_type": "code",
   "execution_count": 21,
   "id": "4027149b-126f-4be8-93a8-f9dbec3a7aeb",
   "metadata": {},
   "outputs": [
    {
     "name": "stdout",
     "output_type": "stream",
     "text": [
      "accuracy: 0.5591572123176661\n",
      "              precision    recall  f1-score   support\n",
      "\n",
      "   Academics       0.53      1.00      0.69       224\n",
      "      Alumni       0.62      0.76      0.68       152\n",
      "      Campus       0.00      0.00      0.00        69\n",
      "     History       0.00      0.00      0.00        50\n",
      "Student Life       0.88      0.06      0.11       122\n",
      "\n",
      "    accuracy                           0.56       617\n",
      "   macro avg       0.40      0.36      0.30       617\n",
      "weighted avg       0.52      0.56      0.44       617\n",
      "\n"
     ]
    },
    {
     "name": "stderr",
     "output_type": "stream",
     "text": [
      "/Users/eric-chen/env/test/lib/python3.9/site-packages/sklearn/metrics/_classification.py:1344: UndefinedMetricWarning: Precision and F-score are ill-defined and being set to 0.0 in labels with no predicted samples. Use `zero_division` parameter to control this behavior.\n",
      "  _warn_prf(average, modifier, msg_start, len(result))\n",
      "/Users/eric-chen/env/test/lib/python3.9/site-packages/sklearn/metrics/_classification.py:1344: UndefinedMetricWarning: Precision and F-score are ill-defined and being set to 0.0 in labels with no predicted samples. Use `zero_division` parameter to control this behavior.\n",
      "  _warn_prf(average, modifier, msg_start, len(result))\n",
      "/Users/eric-chen/env/test/lib/python3.9/site-packages/sklearn/metrics/_classification.py:1344: UndefinedMetricWarning: Precision and F-score are ill-defined and being set to 0.0 in labels with no predicted samples. Use `zero_division` parameter to control this behavior.\n",
      "  _warn_prf(average, modifier, msg_start, len(result))\n"
     ]
    }
   ],
   "source": [
    "sgd = SGDClassifier(loss='hinge', penalty='l2', alpha=1e-3, random_state=0, tol=None)\n",
    "sgd.fit(X_train_2d, y_train)\n",
    "y_pred = sgd.predict(X_test_2d)\n",
    "\n",
    "print(f'accuracy: {accuracy_score(y_pred, y_test)}')\n",
    "print(classification_report(y_test, y_pred))"
   ]
  },
  {
   "cell_type": "code",
   "execution_count": 22,
   "id": "7811555f-8f2c-44d5-8a50-c550c2c37072",
   "metadata": {},
   "outputs": [
    {
     "name": "stdout",
     "output_type": "stream",
     "text": [
      "accuracy: 0.807131280388979\n",
      "              precision    recall  f1-score   support\n",
      "\n",
      "   Academics       0.89      0.92      0.91       224\n",
      "      Alumni       0.84      0.86      0.85       152\n",
      "      Campus       0.54      0.62      0.58        69\n",
      "     History       0.58      0.30      0.39        50\n",
      "Student Life       0.84      0.84      0.84       122\n",
      "\n",
      "    accuracy                           0.81       617\n",
      "   macro avg       0.74      0.71      0.71       617\n",
      "weighted avg       0.80      0.81      0.80       617\n",
      "\n"
     ]
    },
    {
     "name": "stderr",
     "output_type": "stream",
     "text": [
      "/Users/eric-chen/env/test/lib/python3.9/site-packages/sklearn/linear_model/_logistic.py:458: ConvergenceWarning: lbfgs failed to converge (status=1):\n",
      "STOP: TOTAL NO. of ITERATIONS REACHED LIMIT.\n",
      "\n",
      "Increase the number of iterations (max_iter) or scale the data as shown in:\n",
      "    https://scikit-learn.org/stable/modules/preprocessing.html\n",
      "Please also refer to the documentation for alternative solver options:\n",
      "    https://scikit-learn.org/stable/modules/linear_model.html#logistic-regression\n",
      "  n_iter_i = _check_optimize_result(\n"
     ]
    }
   ],
   "source": [
    "lr = LogisticRegression(C=1e5)\n",
    "lr.fit(X_train_2d, y_train)\n",
    "y_pred = lr.predict(X_test_2d)\n",
    "\n",
    "print(f'accuracy: {accuracy_score(y_pred, y_test)}')\n",
    "print(classification_report(y_test, y_pred))"
   ]
  },
  {
   "cell_type": "code",
   "execution_count": 23,
   "id": "ca79ad43-4b90-4793-ab38-74e57b0ee807",
   "metadata": {},
   "outputs": [
    {
     "name": "stdout",
     "output_type": "stream",
     "text": [
      "accuracy: 0.8038897893030794\n",
      "              precision    recall  f1-score   support\n",
      "\n",
      "   Academics       0.88      0.93      0.90       224\n",
      "      Alumni       0.86      0.86      0.86       152\n",
      "      Campus       0.53      0.52      0.53        69\n",
      "     History       0.62      0.50      0.56        50\n",
      "Student Life       0.80      0.79      0.79       122\n",
      "\n",
      "    accuracy                           0.80       617\n",
      "   macro avg       0.74      0.72      0.73       617\n",
      "weighted avg       0.80      0.80      0.80       617\n",
      "\n"
     ]
    }
   ],
   "source": [
    "gbc = GradientBoostingClassifier()\n",
    "gbc.fit(X_train_2d, y_train)\n",
    "y_pred = gbc.predict(X_test_2d)\n",
    "\n",
    "print(f'accuracy: {accuracy_score(y_pred, y_test)}')\n",
    "print(classification_report(y_test, y_pred))"
   ]
  },
  {
   "cell_type": "code",
   "execution_count": 24,
   "id": "a6828061-977d-4003-b2d1-ecc918fe4c0c",
   "metadata": {},
   "outputs": [],
   "source": [
    "with open('w2v_model.pkl', 'wb') as f:\n",
    "    pickle.dump(gbc, f)"
   ]
  },
  {
   "cell_type": "code",
   "execution_count": 28,
   "id": "3dbeaa0d-d945-4ac8-a93c-a65cefd5df11",
   "metadata": {},
   "outputs": [],
   "source": [
    "test_passage = \"Illinois has tremendous breadth and depth in academics, with more than 150 undergraduate and more than 100 graduate and professional programs.\""
   ]
  },
  {
   "cell_type": "code",
   "execution_count": 29,
   "id": "0d9abe10-5b55-4592-8a25-4cd94c593ec1",
   "metadata": {},
   "outputs": [
    {
     "data": {
      "text/plain": [
       "'Academics'"
      ]
     },
     "execution_count": 29,
     "metadata": {},
     "output_type": "execute_result"
    }
   ],
   "source": [
    "cleaned_text = util.clean_document(test_passage).split()\n",
    "vector = model.wv.get_mean_vector(cleaned_text).reshape(1, -1)\n",
    "\n",
    "gbc.predict(vector)[0]"
   ]
  }
 ],
 "metadata": {
  "kernelspec": {
   "display_name": "Python 3 (ipykernel)",
   "language": "python",
   "name": "python3"
  },
  "language_info": {
   "codemirror_mode": {
    "name": "ipython",
    "version": 3
   },
   "file_extension": ".py",
   "mimetype": "text/x-python",
   "name": "python",
   "nbconvert_exporter": "python",
   "pygments_lexer": "ipython3",
   "version": "3.9.11"
  }
 },
 "nbformat": 4,
 "nbformat_minor": 5
}
