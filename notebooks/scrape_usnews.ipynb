{
 "cells": [
  {
   "cell_type": "code",
   "execution_count": 16,
   "id": "218483e8-eb71-49cf-94dd-44504ef5e810",
   "metadata": {},
   "outputs": [],
   "source": [
    "from bs4 import BeautifulSoup\n",
    "import requests\n",
    "from selenium import webdriver\n",
    "from selenium.webdriver.chrome.service import Service\n",
    "from selenium.webdriver.common.by import By\n",
    "from selenium.webdriver.support.ui import WebDriverWait \n",
    "from selenium.webdriver.support import expected_conditions as EC\n",
    "import re\n",
    "import spacy"
   ]
  },
  {
   "cell_type": "code",
   "execution_count": 17,
   "id": "0eeb0a27-a604-4874-b2a5-9c9f89d47e87",
   "metadata": {},
   "outputs": [
    {
     "name": "stdout",
     "output_type": "stream",
     "text": [
      "Content found\n"
     ]
    }
   ],
   "source": [
    "service = Service()\n",
    "options = webdriver.ChromeOptions()\n",
    "options.binary_location = \"/Applications/Google Chrome.app/Contents/MacOS/Google Chrome\"\n",
    "options.add_argument(\"--window-size=1920,1080\")\n",
    "options.add_argument(\"--headless\")\n",
    "options.add_argument(\"--disable-gpu\")\n",
    "options.add_argument(\"user-agent=Mozilla/5.0 (Windows NT 10.0; Win64; x64) AppleWebKit/537.36 (KHTML, like Gecko) Chrome/87.0.4280.88 Safari/537.36\")\n",
    "driver = webdriver.Chrome(service=service, options=options)\n",
    "\n",
    "query = 'uiuc'\n",
    "\n",
    "url = f'https://www.usnews.com/search/education#gsc.tab=0&gsc.q={query}%20academics%20majors&gsc.sort='\n",
    "driver.get(url)\n",
    "\n",
    "try:\n",
    "    elem = WebDriverWait(driver, 40).until(EC.presence_of_element_located((By.TAG_NAME, 'li')))\n",
    "    content = driver.find_elements(By.TAG_NAME, 'li')\n",
    "    print('Content found')\n",
    "except:\n",
    "    print('Website timed out')"
   ]
  },
  {
   "cell_type": "code",
   "execution_count": 18,
   "id": "d32f7d21-551a-4563-9c6c-2b10f46b05f1",
   "metadata": {},
   "outputs": [
    {
     "data": {
      "text/plain": [
       "'University of Illinois Urbana-Champaign Academics & Majors - US ...\\nhttps://www.usnews.com/best-colleges/university-of-illinois-urbanachampaign-1775/academics\\nSee the most popular majors at University of Illinois Urbana-Champaign and learn about available academic programs and class sizes.'"
      ]
     },
     "execution_count": 18,
     "metadata": {},
     "output_type": "execute_result"
    }
   ],
   "source": [
    "result = ''\n",
    "for c in content:\n",
    "    if 'https://www.usnews.com/best-colleges/' in c.text:\n",
    "        result = c.text\n",
    "        break\n",
    "result"
   ]
  },
  {
   "cell_type": "code",
   "execution_count": 19,
   "id": "3f90f92e-26bf-490a-b9ab-61aa3c8be7ed",
   "metadata": {},
   "outputs": [
    {
     "data": {
      "text/plain": [
       "'https://www.usnews.com/best-colleges/university-of-illinois-urbanachampaign-1775/academics'"
      ]
     },
     "execution_count": 19,
     "metadata": {},
     "output_type": "execute_result"
    }
   ],
   "source": [
    "url = re.findall('https?://\\S+', result)[0]\n",
    "url"
   ]
  },
  {
   "cell_type": "code",
   "execution_count": 20,
   "id": "acc808dd-92b7-4c14-99c9-8a5e5e5a02d0",
   "metadata": {},
   "outputs": [],
   "source": [
    "headers = {'user-agent': 'Mozilla/5.0 (X11; Linux x86_64) AppleWebKit/537.36 (KHTML, like Gecko) Chrome/86.0.4240.111 Safari/537.36'}\n",
    "page = requests.get(url, headers=headers)\n",
    "soup = BeautifulSoup(page.text, 'lxml')"
   ]
  },
  {
   "cell_type": "code",
   "execution_count": 21,
   "id": "49c94867-28af-4444-8717-4865010bcbb2",
   "metadata": {},
   "outputs": [
    {
     "data": {
      "text/plain": [
       "'The student-faculty ratio at University of Illinois Urbana-Champaign is 21:1, and the school  has 36.3% of its classes with fewer than 20 students. The most popular majors at University of Illinois Urbana-Champaign include: Engineering; Business, Management, Marketing, and Related Support Services; Social Sciences; Psychology; Communication, Journalism, and Related Programs; Mathematics and Statistics; Agricultural/Animal/Plant/Veterinary Science and Related Fields; Biological and Biomedical Sciences; Computer and Information Sciences and Support Services; and Health Professions and Related Programs. The average freshman retention rate, an indicator of student satisfaction, is 94%.'"
      ]
     },
     "execution_count": 21,
     "metadata": {},
     "output_type": "execute_result"
    }
   ],
   "source": [
    "a = soup.find('h1', class_='Heading-sc-1w5xk2o-0 cSCNqo')\n",
    "text = a.find_next_sibling('p').text\n",
    "text"
   ]
  },
  {
   "cell_type": "code",
   "execution_count": 22,
   "id": "3e3715ac-0d7e-4470-8ed7-dc4d02cf63a3",
   "metadata": {},
   "outputs": [
    {
     "data": {
      "text/plain": [
       "['Engineering',\n",
       " 'Business, Management, Marketing, and Related Support Services',\n",
       " 'Social Sciences',\n",
       " 'Psychology',\n",
       " 'Communication, Journalism, and Related Programs',\n",
       " 'Mathematics and Statistics',\n",
       " 'Agricultural/Animal/Plant/Veterinary Science and Related Fields',\n",
       " 'Biological and Biomedical Sciences',\n",
       " 'Computer and Information Sciences and Support Services',\n",
       " 'Health Professions and Related Programs']"
      ]
     },
     "execution_count": 22,
     "metadata": {},
     "output_type": "execute_result"
    }
   ],
   "source": [
    "majors = text.split('include:')[1].split('. The average')[0].strip().split(';')\n",
    "if majors[-1][:4] == ' and':\n",
    "    majors[-1] = majors[-1][4:]\n",
    "majors = [m.strip() for m in majors]\n",
    "majors"
   ]
  },
  {
   "cell_type": "code",
   "execution_count": 23,
   "id": "8c62dc54-5f60-473c-9102-2c578ac282d5",
   "metadata": {},
   "outputs": [
    {
     "data": {
      "text/plain": [
       "['Engineering',\n",
       " 'Business, Management, Marketing,',\n",
       " 'Social Sciences',\n",
       " 'Psychology',\n",
       " 'Communication, Journalism,',\n",
       " 'Mathematics and Statistics',\n",
       " 'Agricultural/Animal/Plant/Veterinary Science',\n",
       " 'Biological and Biomedical Sciences',\n",
       " 'Computer and Information Sciences',\n",
       " 'Health Professions']"
      ]
     },
     "execution_count": 23,
     "metadata": {},
     "output_type": "execute_result"
    }
   ],
   "source": [
    "final_majors = []\n",
    "for major_str in majors:\n",
    "    lower = major_str.lower()\n",
    "    if 'and related' in lower:\n",
    "        i = lower.index('and related')\n",
    "        major_str = major_str[:i].strip()\n",
    "            \n",
    "    if 'and support' in lower:\n",
    "        i = lower.index('and support')\n",
    "        major_str = major_str[:i].strip()\n",
    "        \n",
    "    if ',' in major_str and 'and' not in lower and 'studies' not in lower:\n",
    "        lst = major_str.split(',')\n",
    "        for m in lst:\n",
    "            if m and 'and related' not in m.lower():\n",
    "                final_majors.append(m.strip())\n",
    "    \n",
    "    else:\n",
    "        final_majors.append(major_str)\n",
    "        \n",
    "final_majors"
   ]
  },
  {
   "cell_type": "code",
   "execution_count": 24,
   "id": "5a2cdec6-e01b-41e4-997e-a7cd8a54a592",
   "metadata": {},
   "outputs": [],
   "source": [
    "from rake_nltk import Rake"
   ]
  },
  {
   "cell_type": "code",
   "execution_count": 25,
   "id": "018e88c3-b3e8-4090-a2ce-757998f10182",
   "metadata": {},
   "outputs": [
    {
     "data": {
      "text/plain": [
       "[['engineering'],\n",
       " ['marketing', 'management', 'business'],\n",
       " ['social sciences'],\n",
       " ['psychology'],\n",
       " ['journalism', 'communication'],\n",
       " ['statistics', 'mathematics'],\n",
       " ['veterinary science',\n",
       "  'plant science',\n",
       "  'animal science',\n",
       "  'agricultural science'],\n",
       " ['biomedical sciences', 'biological science'],\n",
       " ['information sciences', 'computer science'],\n",
       " ['health professions']]"
      ]
     },
     "execution_count": 25,
     "metadata": {},
     "output_type": "execute_result"
    }
   ],
   "source": [
    "r = Rake()\n",
    "major_keywords = []\n",
    "for fm in final_majors:\n",
    "    r.extract_keywords_from_text(fm)\n",
    "    keywords = r.get_ranked_phrases()\n",
    "    words = ['science', 'studies']\n",
    "    for w in words:\n",
    "        if len(keywords) > 1 and w in keywords[0] and w not in keywords[1:]:\n",
    "            for i in range(1, len(keywords)):\n",
    "                keywords[i] = keywords[i] + ' ' + w\n",
    "    major_keywords.append(keywords)#', '.join(keywords))\n",
    "    \n",
    "\n",
    "major_keywords"
   ]
  },
  {
   "cell_type": "code",
   "execution_count": 26,
   "id": "753e6cd4-bddf-4e3d-9283-6acf9a595d88",
   "metadata": {},
   "outputs": [],
   "source": [
    "nlp = spacy.load('en_core_web_md')"
   ]
  },
  {
   "cell_type": "code",
   "execution_count": 27,
   "id": "69954890-ae18-4d28-b57c-af6f55398175",
   "metadata": {},
   "outputs": [],
   "source": [
    "def similarity(word1, word2):\n",
    "    token1 = nlp(word1)[0]\n",
    "    token2 = nlp(word2)[0]\n",
    "    return token1.similarity(token2)"
   ]
  },
  {
   "cell_type": "code",
   "execution_count": 28,
   "id": "b0d7a58a-0d9e-4bc7-943d-3e42dcd94eb2",
   "metadata": {},
   "outputs": [],
   "source": [
    "possible_majors = ['accounting', 'agricultural science', 'anthropology', 'architecture', 'art', 'biology', 'business', 'chemistry', 'communications', 'computer science', 'criminal justice', 'culinary arts', \n",
    "                   'dental studies', 'design', 'economics', 'education', 'engineering', 'english', 'environmental science', 'film', 'finance', 'foreign language', 'history', 'information science', 'kinesiology', \n",
    "                   'law', 'math', 'music', 'nursing', 'nutrition', 'performing arts', 'pharmacy', 'philosophy', 'physics', 'political science', 'psychology', 'religion', 'sociology', 'statistics']"
   ]
  },
  {
   "cell_type": "code",
   "execution_count": 29,
   "id": "0b9eb389-3e39-425a-9fab-60384a606948",
   "metadata": {},
   "outputs": [
    {
     "data": {
      "text/plain": [
       "{'agricultural science',\n",
       " 'biological science',\n",
       " 'biomedical sciences',\n",
       " 'business',\n",
       " 'communication',\n",
       " 'computer science',\n",
       " 'engineering',\n",
       " 'information sciences',\n",
       " 'management',\n",
       " 'marketing',\n",
       " 'mathematics',\n",
       " 'psychology',\n",
       " 'statistics'}"
      ]
     },
     "execution_count": 29,
     "metadata": {},
     "output_type": "execute_result"
    }
   ],
   "source": [
    "majors_to_search = set()\n",
    "for mks in major_keywords:\n",
    "    for mk in mks:\n",
    "        for pm in possible_majors:\n",
    "            if similarity(pm, mk) > 0.7:\n",
    "                majors_to_search.add(mk)\n",
    "                \n",
    "majors_to_search"
   ]
  }
 ],
 "metadata": {
  "kernelspec": {
   "display_name": "Python 3 (ipykernel)",
   "language": "python",
   "name": "python3"
  },
  "language_info": {
   "codemirror_mode": {
    "name": "ipython",
    "version": 3
   },
   "file_extension": ".py",
   "mimetype": "text/x-python",
   "name": "python",
   "nbconvert_exporter": "python",
   "pygments_lexer": "ipython3",
   "version": "3.9.11"
  }
 },
 "nbformat": 4,
 "nbformat_minor": 5
}
