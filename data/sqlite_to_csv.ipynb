{
 "cells": [
  {
   "cell_type": "code",
   "execution_count": 1,
   "id": "25bde522-8d0a-4ff3-8ce4-efec805ab18b",
   "metadata": {
    "tags": []
   },
   "outputs": [],
   "source": [
    "import pandas as pd\n",
    "import sqlite3"
   ]
  },
  {
   "cell_type": "code",
   "execution_count": 2,
   "id": "2392815b-4a0f-42a9-b1ff-12b5b6bf227b",
   "metadata": {
    "tags": []
   },
   "outputs": [],
   "source": [
    "con = sqlite3.connect('dataset.db')\n",
    "cur = con.cursor()"
   ]
  },
  {
   "cell_type": "code",
   "execution_count": 3,
   "id": "7d36a8b0-00b8-48f9-9934-e61916cf1d23",
   "metadata": {
    "tags": []
   },
   "outputs": [
    {
     "name": "stdout",
     "output_type": "stream",
     "text": [
      "(0, 'category', 'TEXT', 1, None, 0)\n",
      "(1, 'passage', 'TEXT', 1, None, 0)\n"
     ]
    }
   ],
   "source": [
    "sql = \"pragma table_info('paragraph_dataset')\"\n",
    "res = cur.execute(sql)\n",
    "for x in res.fetchall():\n",
    "    print(x)"
   ]
  },
  {
   "cell_type": "code",
   "execution_count": 4,
   "id": "ff07a0dc-18bd-4466-a1cd-e32fa203b140",
   "metadata": {
    "tags": []
   },
   "outputs": [],
   "source": [
    "sql = \"SELECT * FROM paragraph_dataset\"\n",
    "res = cur.execute(sql)\n",
    "\n",
    "labels = []\n",
    "paragraphs = []\n",
    "for x in res.fetchall():\n",
    "    labels.append(x[0])\n",
    "    paragraphs.append(x[1])"
   ]
  },
  {
   "cell_type": "code",
   "execution_count": 5,
   "id": "6e4f51d3-92c1-43a3-81fc-0144b9cce1a8",
   "metadata": {
    "tags": []
   },
   "outputs": [
    {
     "data": {
      "text/html": [
       "<div>\n",
       "<style scoped>\n",
       "    .dataframe tbody tr th:only-of-type {\n",
       "        vertical-align: middle;\n",
       "    }\n",
       "\n",
       "    .dataframe tbody tr th {\n",
       "        vertical-align: top;\n",
       "    }\n",
       "\n",
       "    .dataframe thead th {\n",
       "        text-align: right;\n",
       "    }\n",
       "</style>\n",
       "<table border=\"1\" class=\"dataframe\">\n",
       "  <thead>\n",
       "    <tr style=\"text-align: right;\">\n",
       "      <th></th>\n",
       "      <th>label</th>\n",
       "      <th>paragraph</th>\n",
       "    </tr>\n",
       "  </thead>\n",
       "  <tbody>\n",
       "    <tr>\n",
       "      <th>0</th>\n",
       "      <td>Academics</td>\n",
       "      <td>Associate Professor Song has expanded the Busi...</td>\n",
       "    </tr>\n",
       "    <tr>\n",
       "      <th>1</th>\n",
       "      <td>Academics</td>\n",
       "      <td>MSLIS student and ALA Spectrum Scholar Reynoso...</td>\n",
       "    </tr>\n",
       "    <tr>\n",
       "      <th>2</th>\n",
       "      <td>Academics</td>\n",
       "      <td>Professor Downie gave the keynote for the 2023...</td>\n",
       "    </tr>\n",
       "    <tr>\n",
       "      <th>3</th>\n",
       "      <td>Academics</td>\n",
       "      <td>COURSE LOADS AND OVERLOADS\\nThe normal course ...</td>\n",
       "    </tr>\n",
       "    <tr>\n",
       "      <th>4</th>\n",
       "      <td>Academics</td>\n",
       "      <td>The maximum number of hours a student can take...</td>\n",
       "    </tr>\n",
       "    <tr>\n",
       "      <th>...</th>\n",
       "      <td>...</td>\n",
       "      <td>...</td>\n",
       "    </tr>\n",
       "    <tr>\n",
       "      <th>2462</th>\n",
       "      <td>Student Life</td>\n",
       "      <td>There are 276 student organizations on this ca...</td>\n",
       "    </tr>\n",
       "    <tr>\n",
       "      <th>2463</th>\n",
       "      <td>Student Life</td>\n",
       "      <td>If you don't know what Carnival is, then you d...</td>\n",
       "    </tr>\n",
       "    <tr>\n",
       "      <th>2464</th>\n",
       "      <td>Student Life</td>\n",
       "      <td>If there's just one word to describe the Carne...</td>\n",
       "    </tr>\n",
       "    <tr>\n",
       "      <th>2465</th>\n",
       "      <td>Student Life</td>\n",
       "      <td>CMU has athletics but in all honesty there are...</td>\n",
       "    </tr>\n",
       "    <tr>\n",
       "      <th>2466</th>\n",
       "      <td>Student Life</td>\n",
       "      <td>There are many organizations on campus to be i...</td>\n",
       "    </tr>\n",
       "  </tbody>\n",
       "</table>\n",
       "<p>2467 rows × 2 columns</p>\n",
       "</div>"
      ],
      "text/plain": [
       "             label                                          paragraph\n",
       "0        Academics  Associate Professor Song has expanded the Busi...\n",
       "1        Academics  MSLIS student and ALA Spectrum Scholar Reynoso...\n",
       "2        Academics  Professor Downie gave the keynote for the 2023...\n",
       "3        Academics  COURSE LOADS AND OVERLOADS\\nThe normal course ...\n",
       "4        Academics  The maximum number of hours a student can take...\n",
       "...            ...                                                ...\n",
       "2462  Student Life  There are 276 student organizations on this ca...\n",
       "2463  Student Life  If you don't know what Carnival is, then you d...\n",
       "2464  Student Life  If there's just one word to describe the Carne...\n",
       "2465  Student Life  CMU has athletics but in all honesty there are...\n",
       "2466  Student Life  There are many organizations on campus to be i...\n",
       "\n",
       "[2467 rows x 2 columns]"
      ]
     },
     "execution_count": 5,
     "metadata": {},
     "output_type": "execute_result"
    }
   ],
   "source": [
    "df = pd.DataFrame()\n",
    "df['label'] = labels\n",
    "df['paragraph'] = paragraphs\n",
    "df"
   ]
  },
  {
   "cell_type": "code",
   "execution_count": 6,
   "id": "390e25e2-9e6f-4f79-b3f8-71d679e2ebce",
   "metadata": {
    "tags": []
   },
   "outputs": [],
   "source": [
    "df.to_csv('new_dataset.csv', index=False)"
   ]
  },
  {
   "cell_type": "code",
   "execution_count": 7,
   "id": "07d6776e-c7f4-4349-813f-45e14535c9af",
   "metadata": {
    "tags": []
   },
   "outputs": [
    {
     "data": {
      "text/html": [
       "<div>\n",
       "<style scoped>\n",
       "    .dataframe tbody tr th:only-of-type {\n",
       "        vertical-align: middle;\n",
       "    }\n",
       "\n",
       "    .dataframe tbody tr th {\n",
       "        vertical-align: top;\n",
       "    }\n",
       "\n",
       "    .dataframe thead th {\n",
       "        text-align: right;\n",
       "    }\n",
       "</style>\n",
       "<table border=\"1\" class=\"dataframe\">\n",
       "  <thead>\n",
       "    <tr style=\"text-align: right;\">\n",
       "      <th></th>\n",
       "      <th>label</th>\n",
       "      <th>paragraph</th>\n",
       "    </tr>\n",
       "  </thead>\n",
       "  <tbody>\n",
       "    <tr>\n",
       "      <th>0</th>\n",
       "      <td>Academics</td>\n",
       "      <td>Associate Professor Song has expanded the Busi...</td>\n",
       "    </tr>\n",
       "    <tr>\n",
       "      <th>1</th>\n",
       "      <td>Academics</td>\n",
       "      <td>MSLIS student and ALA Spectrum Scholar Reynoso...</td>\n",
       "    </tr>\n",
       "    <tr>\n",
       "      <th>2</th>\n",
       "      <td>Academics</td>\n",
       "      <td>Professor Downie gave the keynote for the 2023...</td>\n",
       "    </tr>\n",
       "    <tr>\n",
       "      <th>3</th>\n",
       "      <td>Academics</td>\n",
       "      <td>COURSE LOADS AND OVERLOADS\\nThe normal course ...</td>\n",
       "    </tr>\n",
       "    <tr>\n",
       "      <th>4</th>\n",
       "      <td>Academics</td>\n",
       "      <td>The maximum number of hours a student can take...</td>\n",
       "    </tr>\n",
       "    <tr>\n",
       "      <th>...</th>\n",
       "      <td>...</td>\n",
       "      <td>...</td>\n",
       "    </tr>\n",
       "    <tr>\n",
       "      <th>2462</th>\n",
       "      <td>Student Life</td>\n",
       "      <td>There are 276 student organizations on this ca...</td>\n",
       "    </tr>\n",
       "    <tr>\n",
       "      <th>2463</th>\n",
       "      <td>Student Life</td>\n",
       "      <td>If you don't know what Carnival is, then you d...</td>\n",
       "    </tr>\n",
       "    <tr>\n",
       "      <th>2464</th>\n",
       "      <td>Student Life</td>\n",
       "      <td>If there's just one word to describe the Carne...</td>\n",
       "    </tr>\n",
       "    <tr>\n",
       "      <th>2465</th>\n",
       "      <td>Student Life</td>\n",
       "      <td>CMU has athletics but in all honesty there are...</td>\n",
       "    </tr>\n",
       "    <tr>\n",
       "      <th>2466</th>\n",
       "      <td>Student Life</td>\n",
       "      <td>There are many organizations on campus to be i...</td>\n",
       "    </tr>\n",
       "  </tbody>\n",
       "</table>\n",
       "<p>2467 rows × 2 columns</p>\n",
       "</div>"
      ],
      "text/plain": [
       "             label                                          paragraph\n",
       "0        Academics  Associate Professor Song has expanded the Busi...\n",
       "1        Academics  MSLIS student and ALA Spectrum Scholar Reynoso...\n",
       "2        Academics  Professor Downie gave the keynote for the 2023...\n",
       "3        Academics  COURSE LOADS AND OVERLOADS\\nThe normal course ...\n",
       "4        Academics  The maximum number of hours a student can take...\n",
       "...            ...                                                ...\n",
       "2462  Student Life  There are 276 student organizations on this ca...\n",
       "2463  Student Life  If you don't know what Carnival is, then you d...\n",
       "2464  Student Life  If there's just one word to describe the Carne...\n",
       "2465  Student Life  CMU has athletics but in all honesty there are...\n",
       "2466  Student Life  There are many organizations on campus to be i...\n",
       "\n",
       "[2467 rows x 2 columns]"
      ]
     },
     "execution_count": 7,
     "metadata": {},
     "output_type": "execute_result"
    }
   ],
   "source": [
    "df2 = pd.read_csv('new_dataset.csv')\n",
    "df2"
   ]
  }
 ],
 "metadata": {
  "kernelspec": {
   "display_name": "Python 3 (ipykernel)",
   "language": "python",
   "name": "python3"
  },
  "language_info": {
   "codemirror_mode": {
    "name": "ipython",
    "version": 3
   },
   "file_extension": ".py",
   "mimetype": "text/x-python",
   "name": "python",
   "nbconvert_exporter": "python",
   "pygments_lexer": "ipython3",
   "version": "3.9.11"
  }
 },
 "nbformat": 4,
 "nbformat_minor": 5
}
